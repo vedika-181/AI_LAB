{
  "nbformat": 4,
  "nbformat_minor": 0,
  "metadata": {
    "colab": {
      "name": "8puzzle_iddfs.ipynb",
      "provenance": [],
      "collapsed_sections": [],
      "authorship_tag": "ABX9TyM+WTQB3QfHZh92efBHtSyd",
      "include_colab_link": true
    },
    "kernelspec": {
      "name": "python3",
      "display_name": "Python 3"
    },
    "language_info": {
      "name": "python"
    }
  },
  "cells": [
    {
      "cell_type": "markdown",
      "metadata": {
        "id": "view-in-github",
        "colab_type": "text"
      },
      "source": [
        "<a href=\"https://colab.research.google.com/github/vedika-181/AI_LAB/blob/main/LAB%203/8puzzle_iddfs.ipynb\" target=\"_parent\"><img src=\"https://colab.research.google.com/assets/colab-badge.svg\" alt=\"Open In Colab\"/></a>"
      ]
    },
    {
      "cell_type": "code",
      "metadata": {
        "id": "-4DoicHHwG_z"
      },
      "source": [
        "def dfs(src,target,limit,visited_states):\n",
        "    if src == target:\n",
        "        return True\n",
        "    if limit <= 0:\n",
        "        return False\n",
        "    visited_states.append(src)\n",
        "    moves = possible_moves(src,visited_states)  \n",
        "    for move in moves:\n",
        "        if dfs(move, target, limit-1, visited_states):\n",
        "            return True\n",
        "    return False\n",
        "\n",
        "def possible_moves(state,visited_states):\n",
        "    b = state.index(-1)  \n",
        "    d = []\n",
        "    if b not in [0,1,2]:\n",
        "        d += 'u'\n",
        "    if b not in [6,7,8]:\n",
        "        d += 'd'\n",
        "    if b not in [2,5,8]:\n",
        "        d += 'r'\n",
        "    if b not in [0,3,6]:\n",
        "        d += 'l'\n",
        "    pos_moves = []\n",
        "    for move in d:\n",
        "        pos_moves.append(gen(state,move,b))\n",
        "    return [move for move in pos_moves if move not in visited_states]\n",
        "def gen(state, move, blank):\n",
        "    temp = state.copy()                              \n",
        "    if move == 'u':\n",
        "        temp[blank-3], temp[blank] = temp[blank], temp[blank-3]\n",
        "    if move == 'd':\n",
        "        temp[blank+3], temp[blank] = temp[blank], temp[blank+3]\n",
        "    if move == 'r':\n",
        "        temp[blank+1], temp[blank] = temp[blank], temp[blank+1]\n",
        "    if move == 'l':\n",
        "        temp[blank-1], temp[blank] = temp[blank], temp[blank-1]\n",
        "    return temp\n",
        "def iddfs(src,target,depth):\n",
        "    for i in range(depth):\n",
        "        visited_states = []\n",
        "        if dfs(src,target,i+1,visited_states):\n",
        "            return True\n",
        "    return False\n",
        "\n",
        "#Test 2\n",
        "src = [3,5,2,8,7,6,4,1,-1]\n",
        "target = [-1,3,7,8,1,5,4,6,2]\n",
        "\n",
        "depth = 1\n",
        "iddfs(src, target, depth)\n",
        "# Test 2\n",
        "src = [1,2,3,-1,4,5,6,7,8]\n",
        "target=[1,2,3,6,4,5,-1,7,8]\n",
        "\n",
        "depth = 1\n",
        "iddfs(src, target, depth)\n",
        "\n",
        "src = [1, 2, 3, 4, 5, 6, 7, 8, -1]\n",
        "target = [-1, 1, 2, 3, 4, 5, 6, 7, 8]\n",
        "\n",
        "for i in range(1, 100):\n",
        "    val = iddfs(src,target,i)\n",
        "    print(i, val)\n",
        "    if val == True:\n",
        "        break"
      ],
      "execution_count": null,
      "outputs": []
    }
  ]
}