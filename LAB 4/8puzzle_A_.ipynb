{
  "nbformat": 4,
  "nbformat_minor": 0,
  "metadata": {
    "colab": {
      "name": "8puzzle_A*.ipynb",
      "provenance": [],
      "collapsed_sections": [],
      "authorship_tag": "ABX9TyMGn68ch2L43ktWHcePHJZi",
      "include_colab_link": true
    },
    "kernelspec": {
      "name": "python3",
      "display_name": "Python 3"
    },
    "language_info": {
      "name": "python"
    }
  },
  "cells": [
    {
      "cell_type": "markdown",
      "metadata": {
        "id": "view-in-github",
        "colab_type": "text"
      },
      "source": [
        "<a href=\"https://colab.research.google.com/github/vedika-181/AI_LAB/blob/main/LAB_4/8puzzle_A_.ipynb\" target=\"_parent\"><img src=\"https://colab.research.google.com/assets/colab-badge.svg\" alt=\"Open In Colab\"/></a>"
      ]
    },
    {
      "cell_type": "code",
      "metadata": {
        "id": "p7rZxO51_9Xf"
      },
      "source": [
        "def print_b(src):\n",
        "    state = src.copy()\n",
        "    state[state.index(-1)] = ' '\n",
        "    print(\n",
        "        f\"\"\"\n",
        "{state[0]} {state[1]} {state[2]}\n",
        "{state[3]} {state[4]} {state[5]}\n",
        "{state[6]} {state[7]} {state[8]}\n",
        "        \"\"\"\n",
        "    )\n",
        "\n",
        "def h(state, target):\n",
        "    count=0\n",
        "    i=0\n",
        "    for j in state:\n",
        "        if state[i]!= target[i]:\n",
        "            count=count+1\n",
        "    return count\n",
        "\n",
        "def astar(state,target):# Add inputs if more are required\n",
        "    states = [src]\n",
        "    g = 0\n",
        "    visited_states =[]\n",
        "    while len(states):\n",
        "        print(f\"Level: {g}\")\n",
        "        moves = []\n",
        "        for state in states:\n",
        "            visited_states.append(state)\n",
        "            print_b(state)\n",
        "            if state == target:\n",
        "                print(\"Success\")\n",
        "                return\n",
        "            moves += [move for move in possible_moves(state, visited_states) if move not in moves]\n",
        "        costs = [g + h(move, target) for move in moves]\n",
        "        states = [moves[i] for i in range(len(moves)) if costs[i] == min(costs)]\n",
        "        g += 1\n",
        "    print(\"Fail\")\n",
        "\n",
        "\n",
        "def possible_moves(state, visited_state):  # Add inputs if more are required\n",
        "    # Find index of empty spot and assign it to b\n",
        "    b = state.index(-1);\n",
        "\n",
        "    # 'd' for down, 'u' for up, 'r' for right, 'l' for left - directions array\n",
        "    d = []\n",
        "\n",
        "    # Add all possible direction into directions array - Hint using if statements\n",
        "    if b - 3 in range(9):\n",
        "        d.append('u')\n",
        "    if b not in [0, 3, 6]:\n",
        "        d.append('l')\n",
        "    if b not in [2, 5, 8]:\n",
        "        d.append('r')\n",
        "    if b + 3 in range(9):\n",
        "        d.append('d')\n",
        "\n",
        "    # If direction is possible then add state to move\n",
        "    pos_moves = []\n",
        "\n",
        "    # for all possible directions find the state if that move is played\n",
        "    ### Jump to gen function to generate all possible moves in the given directions\n",
        "    for m in d:\n",
        "        pos_moves.append(gen(state, m, b))\n",
        "\n",
        "    # return all possible moves only if the move not in visited_states\n",
        "    return [move for move in pos_moves if move not in visited_state]\n",
        "\n",
        "\n",
        "def gen(state, m, b):\n",
        "    temp = state.copy()\n",
        "\n",
        "    # if move is to slide empty spot to the left and so on\n",
        "    if m == 'u': temp[b - 3], temp[b] = temp[b], temp[b - 3]\n",
        "    if m == 'l': temp[b - 1], temp[b] = temp[b], temp[b - 1]\n",
        "    if m == 'r': temp[b + 1], temp[b] = temp[b], temp[b + 1]\n",
        "    if m == 'd': temp[b + 3], temp[b] = temp[b], temp[b + 3]\n",
        "\n",
        "    # return new state with tested move to later check if \"src == target\"\n",
        "    return temp\n",
        "\n",
        "\n",
        "# Test 1\n",
        "src = [1, 2, 3, -1, 4, 5, 6, 7, 8]\n",
        "target = [1, 2, 3, 4, 5, -1, 6, 7, 8]\n",
        "\n",
        "astar(src, target)\n"
      ],
      "execution_count": null,
      "outputs": []
    }
  ]
}
